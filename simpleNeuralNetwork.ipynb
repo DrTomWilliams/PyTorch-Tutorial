{
 "cells": [
  {
   "cell_type": "code",
   "execution_count": 194,
   "id": "3a8bfd99-4936-4a67-afbe-ff315e8546c4",
   "metadata": {},
   "outputs": [],
   "source": [
    "import torch\n",
    "import torch.nn as nn\n",
    "import torch.nn.functional as F\n"
   ]
  },
  {
   "cell_type": "code",
   "execution_count": 195,
   "id": "2f1168de-5400-43b1-b604-c678360f5e29",
   "metadata": {},
   "outputs": [],
   "source": [
    "## create a model class that interits nn.module\n",
    "class Model(nn.Module):\n",
    "    # input layer (4 features of the flower from iris dataset) --> \n",
    "    # hidden layer1 (number of neurons)\n",
    "    # --> H2 (n) --> \n",
    "    # output (3 classes of iris flowers)\n",
    "    def __init__(self,in_features=4, h1=8, h2=64, out_features=3):\n",
    "        super().__init__() # instantiate our nn.Module\n",
    "        self.fc1 = nn.Linear(in_features, h1)\n",
    "        self.fc2 = nn.Linear(h1, h2)\n",
    "        self.out = nn.Linear(h2, out_features)\n",
    "\n",
    "    def forward(self, x):\n",
    "        x = F.relu(self.fc1(x)) # rectified linear unit. if output < 0 use 0, else use output\n",
    "        x = F.relu(self.fc2(x))\n",
    "        x = self.out(x)\n",
    "\n",
    "        return x\n",
    "        "
   ]
  },
  {
   "cell_type": "code",
   "execution_count": 196,
   "id": "9468c843-9af0-455d-8936-a813e962468b",
   "metadata": {},
   "outputs": [],
   "source": [
    "# pick manual random seed\n",
    "torch.manual_seed(41)\n",
    "# create instance of model\n",
    "model = Model()"
   ]
  },
  {
   "cell_type": "code",
   "execution_count": 197,
   "id": "ea432685-6dde-4c70-a384-1e27120fc25c",
   "metadata": {},
   "outputs": [],
   "source": [
    "import pandas as pd\n",
    "import numpy as np\n",
    "import matplotlib.pyplot as plt\n",
    "%matplotlib inline"
   ]
  },
  {
   "cell_type": "code",
   "execution_count": 198,
   "id": "d9ff56bd-77a4-495f-abaf-f51abb2a1d3e",
   "metadata": {},
   "outputs": [
    {
     "data": {
      "text/html": [
       "<div>\n",
       "<style scoped>\n",
       "    .dataframe tbody tr th:only-of-type {\n",
       "        vertical-align: middle;\n",
       "    }\n",
       "\n",
       "    .dataframe tbody tr th {\n",
       "        vertical-align: top;\n",
       "    }\n",
       "\n",
       "    .dataframe thead th {\n",
       "        text-align: right;\n",
       "    }\n",
       "</style>\n",
       "<table border=\"1\" class=\"dataframe\">\n",
       "  <thead>\n",
       "    <tr style=\"text-align: right;\">\n",
       "      <th></th>\n",
       "      <th>sepal.length</th>\n",
       "      <th>sepal.width</th>\n",
       "      <th>petal.length</th>\n",
       "      <th>petal.width</th>\n",
       "      <th>variety</th>\n",
       "    </tr>\n",
       "  </thead>\n",
       "  <tbody>\n",
       "    <tr>\n",
       "      <th>0</th>\n",
       "      <td>5.1</td>\n",
       "      <td>3.5</td>\n",
       "      <td>1.4</td>\n",
       "      <td>0.2</td>\n",
       "      <td>Setosa</td>\n",
       "    </tr>\n",
       "    <tr>\n",
       "      <th>1</th>\n",
       "      <td>4.9</td>\n",
       "      <td>3.0</td>\n",
       "      <td>1.4</td>\n",
       "      <td>0.2</td>\n",
       "      <td>Setosa</td>\n",
       "    </tr>\n",
       "    <tr>\n",
       "      <th>2</th>\n",
       "      <td>4.7</td>\n",
       "      <td>3.2</td>\n",
       "      <td>1.3</td>\n",
       "      <td>0.2</td>\n",
       "      <td>Setosa</td>\n",
       "    </tr>\n",
       "    <tr>\n",
       "      <th>3</th>\n",
       "      <td>4.6</td>\n",
       "      <td>3.1</td>\n",
       "      <td>1.5</td>\n",
       "      <td>0.2</td>\n",
       "      <td>Setosa</td>\n",
       "    </tr>\n",
       "    <tr>\n",
       "      <th>4</th>\n",
       "      <td>5.0</td>\n",
       "      <td>3.6</td>\n",
       "      <td>1.4</td>\n",
       "      <td>0.2</td>\n",
       "      <td>Setosa</td>\n",
       "    </tr>\n",
       "    <tr>\n",
       "      <th>...</th>\n",
       "      <td>...</td>\n",
       "      <td>...</td>\n",
       "      <td>...</td>\n",
       "      <td>...</td>\n",
       "      <td>...</td>\n",
       "    </tr>\n",
       "    <tr>\n",
       "      <th>145</th>\n",
       "      <td>6.7</td>\n",
       "      <td>3.0</td>\n",
       "      <td>5.2</td>\n",
       "      <td>2.3</td>\n",
       "      <td>Virginica</td>\n",
       "    </tr>\n",
       "    <tr>\n",
       "      <th>146</th>\n",
       "      <td>6.3</td>\n",
       "      <td>2.5</td>\n",
       "      <td>5.0</td>\n",
       "      <td>1.9</td>\n",
       "      <td>Virginica</td>\n",
       "    </tr>\n",
       "    <tr>\n",
       "      <th>147</th>\n",
       "      <td>6.5</td>\n",
       "      <td>3.0</td>\n",
       "      <td>5.2</td>\n",
       "      <td>2.0</td>\n",
       "      <td>Virginica</td>\n",
       "    </tr>\n",
       "    <tr>\n",
       "      <th>148</th>\n",
       "      <td>6.2</td>\n",
       "      <td>3.4</td>\n",
       "      <td>5.4</td>\n",
       "      <td>2.3</td>\n",
       "      <td>Virginica</td>\n",
       "    </tr>\n",
       "    <tr>\n",
       "      <th>149</th>\n",
       "      <td>5.9</td>\n",
       "      <td>3.0</td>\n",
       "      <td>5.1</td>\n",
       "      <td>1.8</td>\n",
       "      <td>Virginica</td>\n",
       "    </tr>\n",
       "  </tbody>\n",
       "</table>\n",
       "<p>150 rows × 5 columns</p>\n",
       "</div>"
      ],
      "text/plain": [
       "     sepal.length  sepal.width  petal.length  petal.width    variety\n",
       "0             5.1          3.5           1.4          0.2     Setosa\n",
       "1             4.9          3.0           1.4          0.2     Setosa\n",
       "2             4.7          3.2           1.3          0.2     Setosa\n",
       "3             4.6          3.1           1.5          0.2     Setosa\n",
       "4             5.0          3.6           1.4          0.2     Setosa\n",
       "..            ...          ...           ...          ...        ...\n",
       "145           6.7          3.0           5.2          2.3  Virginica\n",
       "146           6.3          2.5           5.0          1.9  Virginica\n",
       "147           6.5          3.0           5.2          2.0  Virginica\n",
       "148           6.2          3.4           5.4          2.3  Virginica\n",
       "149           5.9          3.0           5.1          1.8  Virginica\n",
       "\n",
       "[150 rows x 5 columns]"
      ]
     },
     "execution_count": 198,
     "metadata": {},
     "output_type": "execute_result"
    }
   ],
   "source": [
    "url = 'https://gist.githubusercontent.com/netj/8836201/raw/6f9306ad21398ea43cba4f7d537619d0e07d5ae3/iris.csv'\n",
    "my_df = pd.read_csv(url)\n",
    "my_df"
   ]
  },
  {
   "cell_type": "code",
   "execution_count": 199,
   "id": "12a7f373-2912-439d-862d-aa873ac878f7",
   "metadata": {},
   "outputs": [
    {
     "name": "stderr",
     "output_type": "stream",
     "text": [
      "/tmp/ipykernel_145934/2008352000.py:6: FutureWarning: Downcasting behavior in `replace` is deprecated and will be removed in a future version. To retain the old behavior, explicitly call `result.infer_objects(copy=False)`. To opt-in to the future behavior, set `pd.set_option('future.no_silent_downcasting', True)`\n",
      "  my_df['variety'] = my_df['variety'].replace('Virginica', 2.0)\n"
     ]
    },
    {
     "data": {
      "text/html": [
       "<div>\n",
       "<style scoped>\n",
       "    .dataframe tbody tr th:only-of-type {\n",
       "        vertical-align: middle;\n",
       "    }\n",
       "\n",
       "    .dataframe tbody tr th {\n",
       "        vertical-align: top;\n",
       "    }\n",
       "\n",
       "    .dataframe thead th {\n",
       "        text-align: right;\n",
       "    }\n",
       "</style>\n",
       "<table border=\"1\" class=\"dataframe\">\n",
       "  <thead>\n",
       "    <tr style=\"text-align: right;\">\n",
       "      <th></th>\n",
       "      <th>sepal.length</th>\n",
       "      <th>sepal.width</th>\n",
       "      <th>petal.length</th>\n",
       "      <th>petal.width</th>\n",
       "      <th>variety</th>\n",
       "    </tr>\n",
       "  </thead>\n",
       "  <tbody>\n",
       "    <tr>\n",
       "      <th>0</th>\n",
       "      <td>5.1</td>\n",
       "      <td>3.5</td>\n",
       "      <td>1.4</td>\n",
       "      <td>0.2</td>\n",
       "      <td>0.0</td>\n",
       "    </tr>\n",
       "    <tr>\n",
       "      <th>1</th>\n",
       "      <td>4.9</td>\n",
       "      <td>3.0</td>\n",
       "      <td>1.4</td>\n",
       "      <td>0.2</td>\n",
       "      <td>0.0</td>\n",
       "    </tr>\n",
       "    <tr>\n",
       "      <th>2</th>\n",
       "      <td>4.7</td>\n",
       "      <td>3.2</td>\n",
       "      <td>1.3</td>\n",
       "      <td>0.2</td>\n",
       "      <td>0.0</td>\n",
       "    </tr>\n",
       "    <tr>\n",
       "      <th>3</th>\n",
       "      <td>4.6</td>\n",
       "      <td>3.1</td>\n",
       "      <td>1.5</td>\n",
       "      <td>0.2</td>\n",
       "      <td>0.0</td>\n",
       "    </tr>\n",
       "    <tr>\n",
       "      <th>4</th>\n",
       "      <td>5.0</td>\n",
       "      <td>3.6</td>\n",
       "      <td>1.4</td>\n",
       "      <td>0.2</td>\n",
       "      <td>0.0</td>\n",
       "    </tr>\n",
       "    <tr>\n",
       "      <th>...</th>\n",
       "      <td>...</td>\n",
       "      <td>...</td>\n",
       "      <td>...</td>\n",
       "      <td>...</td>\n",
       "      <td>...</td>\n",
       "    </tr>\n",
       "    <tr>\n",
       "      <th>145</th>\n",
       "      <td>6.7</td>\n",
       "      <td>3.0</td>\n",
       "      <td>5.2</td>\n",
       "      <td>2.3</td>\n",
       "      <td>2.0</td>\n",
       "    </tr>\n",
       "    <tr>\n",
       "      <th>146</th>\n",
       "      <td>6.3</td>\n",
       "      <td>2.5</td>\n",
       "      <td>5.0</td>\n",
       "      <td>1.9</td>\n",
       "      <td>2.0</td>\n",
       "    </tr>\n",
       "    <tr>\n",
       "      <th>147</th>\n",
       "      <td>6.5</td>\n",
       "      <td>3.0</td>\n",
       "      <td>5.2</td>\n",
       "      <td>2.0</td>\n",
       "      <td>2.0</td>\n",
       "    </tr>\n",
       "    <tr>\n",
       "      <th>148</th>\n",
       "      <td>6.2</td>\n",
       "      <td>3.4</td>\n",
       "      <td>5.4</td>\n",
       "      <td>2.3</td>\n",
       "      <td>2.0</td>\n",
       "    </tr>\n",
       "    <tr>\n",
       "      <th>149</th>\n",
       "      <td>5.9</td>\n",
       "      <td>3.0</td>\n",
       "      <td>5.1</td>\n",
       "      <td>1.8</td>\n",
       "      <td>2.0</td>\n",
       "    </tr>\n",
       "  </tbody>\n",
       "</table>\n",
       "<p>150 rows × 5 columns</p>\n",
       "</div>"
      ],
      "text/plain": [
       "     sepal.length  sepal.width  petal.length  petal.width  variety\n",
       "0             5.1          3.5           1.4          0.2      0.0\n",
       "1             4.9          3.0           1.4          0.2      0.0\n",
       "2             4.7          3.2           1.3          0.2      0.0\n",
       "3             4.6          3.1           1.5          0.2      0.0\n",
       "4             5.0          3.6           1.4          0.2      0.0\n",
       "..            ...          ...           ...          ...      ...\n",
       "145           6.7          3.0           5.2          2.3      2.0\n",
       "146           6.3          2.5           5.0          1.9      2.0\n",
       "147           6.5          3.0           5.2          2.0      2.0\n",
       "148           6.2          3.4           5.4          2.3      2.0\n",
       "149           5.9          3.0           5.1          1.8      2.0\n",
       "\n",
       "[150 rows x 5 columns]"
      ]
     },
     "execution_count": 199,
     "metadata": {},
     "output_type": "execute_result"
    }
   ],
   "source": [
    "# change strings to numeric values for ML\n",
    "\n",
    "#np.unique(my_df['variety'])\n",
    "my_df['variety'] = my_df['variety'].replace('Setosa', 0.0)\n",
    "my_df['variety'] = my_df['variety'].replace('Versicolor', 1.0)\n",
    "my_df['variety'] = my_df['variety'].replace('Virginica', 2.0)\n",
    "my_df"
   ]
  },
  {
   "cell_type": "code",
   "execution_count": 200,
   "id": "0ad5c661-5e84-4a8f-ae5d-6c33aef54a2c",
   "metadata": {},
   "outputs": [],
   "source": [
    "# train, test, split, set X, y\n",
    "X = np.asarray(my_df.drop('variety',axis=1))\n",
    "y = np.asarray(my_df['variety'])"
   ]
  },
  {
   "cell_type": "code",
   "execution_count": 201,
   "id": "c5388ef5-d5d7-48a4-80e2-5e96bac2dba8",
   "metadata": {},
   "outputs": [],
   "source": [
    "from sklearn.model_selection import train_test_split"
   ]
  },
  {
   "cell_type": "code",
   "execution_count": 202,
   "id": "9fb09cdf-caea-4653-9104-b12abf6a386a",
   "metadata": {},
   "outputs": [],
   "source": [
    "# Train Test Split\n",
    "X_train, X_test, y_train, y_test = train_test_split(X,y, test_size=0.2, random_state=41)"
   ]
  },
  {
   "cell_type": "code",
   "execution_count": 203,
   "id": "d66a1edc-be71-4098-a222-3741aaec79a8",
   "metadata": {},
   "outputs": [],
   "source": [
    "# covnert X features, y labels to torch.tensors\n",
    "X_train = torch.FloatTensor(X_train)\n",
    "X_test = torch.FloatTensor(X_test)\n",
    "\n",
    "y_train = torch.LongTensor(y_train)\n",
    "y_test = torch.LongTensor(y_test)"
   ]
  },
  {
   "cell_type": "code",
   "execution_count": 204,
   "id": "76b4e6be-4152-4a5b-af57-e527ebe0385f",
   "metadata": {},
   "outputs": [],
   "source": [
    "# set the model criterion to measure the error\n",
    "criterion = nn.CrossEntropyLoss()\n",
    "\n",
    "# choose an optimizer, set learning rate, if lr does not decrease with iterations (epochs), need to lower lr\n",
    "optimizer = torch.optim.Adam(model.parameters(), lr=0.02)"
   ]
  },
  {
   "cell_type": "code",
   "execution_count": 205,
   "id": "914c2ac1-4886-4c16-90a2-96d0c4e7d71d",
   "metadata": {},
   "outputs": [
    {
     "data": {
      "text/plain": [
       "<bound method Module.parameters of Model(\n",
       "  (fc1): Linear(in_features=4, out_features=8, bias=True)\n",
       "  (fc2): Linear(in_features=8, out_features=64, bias=True)\n",
       "  (out): Linear(in_features=64, out_features=3, bias=True)\n",
       ")>"
      ]
     },
     "execution_count": 205,
     "metadata": {},
     "output_type": "execute_result"
    }
   ],
   "source": [
    "model.parameters"
   ]
  },
  {
   "cell_type": "code",
   "execution_count": 206,
   "id": "f6f108ea-ded2-4c58-8e3e-a980e307f409",
   "metadata": {},
   "outputs": [
    {
     "name": "stdout",
     "output_type": "stream",
     "text": [
      "Epoch: 0 and loss: 1.0681482553482056\n",
      "Epoch: 10 and loss: 0.2950320839881897\n",
      "Epoch: 20 and loss: 0.06841406971216202\n",
      "Epoch: 30 and loss: 0.034502167254686356\n",
      "Epoch: 40 and loss: 0.025665348395705223\n",
      "Epoch: 50 and loss: 0.022242967039346695\n",
      "Epoch: 60 and loss: 0.019452394917607307\n",
      "Epoch: 70 and loss: 0.01866462640464306\n",
      "Epoch: 80 and loss: 0.017902696505188942\n",
      "Epoch: 90 and loss: 0.017135821282863617\n"
     ]
    }
   ],
   "source": [
    "# Train model\n",
    "epochs = 100\n",
    "losses = []\n",
    "\n",
    "for i in range(epochs):\n",
    "    # go forward and get prediciton\n",
    "    y_pred = model.forward(X_train) # get predicted results\n",
    "\n",
    "    # measure loss\n",
    "    loss = criterion(y_pred,y_train) # predicted vs training values\n",
    "\n",
    "    # track losses\n",
    "    losses.append(loss.detach().numpy())\n",
    "\n",
    "    # print every 10 epochs\n",
    "    if i % 10 == 0:\n",
    "        print(f'Epoch: {i} and loss: {loss}')\n",
    "\n",
    "    # do some back propagation: take the error rate of forward prop\n",
    "    # and feed it baxck through the newtwork to fine-tune the weights\n",
    "    optimizer.zero_grad()\n",
    "    loss.backward()\n",
    "    optimizer.step()"
   ]
  },
  {
   "cell_type": "code",
   "execution_count": 207,
   "id": "56daccbe-2e86-4f77-9950-bb6d6fbd266b",
   "metadata": {},
   "outputs": [
    {
     "data": {
      "text/plain": [
       "Text(0.5, 0, 'Epoch')"
      ]
     },
     "execution_count": 207,
     "metadata": {},
     "output_type": "execute_result"
    },
    {
     "data": {
      "image/png": "[encoded data removed]",
      "text/plain": [
       "<Figure size 640x480 with 1 Axes>"
      ]
     },
     "metadata": {},
     "output_type": "display_data"
    }
   ],
   "source": [
    "plt.plot(range(epochs),losses)\n",
    "plt.ylabel('loss/error')\n",
    "plt.xlabel('Epoch')"
   ]
  },
  {
   "cell_type": "code",
   "execution_count": 208,
   "id": "f3d9a5d2-4e0a-4f9a-a9aa-a82362c77dbe",
   "metadata": {},
   "outputs": [],
   "source": [
    "# evaluate model on test data\n",
    "with torch.no_grad():   # basically turn off back propagation\n",
    "    y_eval = model.forward(X_test)\n",
    "    loss = criterion(y_eval,y_test) # find loss"
   ]
  },
  {
   "cell_type": "code",
   "execution_count": 209,
   "id": "65d8fd5f-95ed-42fd-a017-99dfb5e912ba",
   "metadata": {},
   "outputs": [
    {
     "data": {
      "text/plain": [
       "(tensor(0.2315), array(0.01551143, dtype=float32))"
      ]
     },
     "execution_count": 209,
     "metadata": {},
     "output_type": "execute_result"
    }
   ],
   "source": [
    "loss, losses[-1] # compare loss of eval and training. want them to be the same-ish"
   ]
  },
  {
   "cell_type": "code",
   "execution_count": 210,
   "id": "2aedd1e3-29d3-4762-a749-b2699907f8f4",
   "metadata": {},
   "outputs": [
    {
     "name": "stdout",
     "output_type": "stream",
     "text": [
      "1.) tensor([-12.8688,   5.9696,  13.4847]) \t 2 \t 2\n",
      "2.) tensor([-19.9535,   3.4960,  23.9349]) \t 2 \t 2\n",
      "3.) tensor([-20.3453,   5.0920,  23.6724]) \t 2 \t 2\n",
      "4.) tensor([-4.5074, 10.1916,  0.4226]) \t 1 \t 1\n",
      "5.) tensor([-16.5180,   5.8122,  18.3275]) \t 2 \t 2\n",
      "6.) tensor([-0.4359, 10.4236, -5.0413]) \t 1 \t 1\n",
      "7.) tensor([-11.4777,   7.4342,  10.9617]) \t 2 \t 2\n",
      "8.) tensor([-4.2701e+00,  1.0387e+01,  4.8578e-06]) \t 1 \t 1\n",
      "9.) tensor([-14.0039,   6.6581,  14.6359]) \t 2 \t 2\n",
      "10.) tensor([-21.2125,   3.6516,  25.5026]) \t 2 \t 2\n",
      "11.) tensor([-10.8727,   7.6413,  10.0718]) \t 2 \t 2\n",
      "12.) tensor([ 18.5019,   9.6542, -29.6361]) \t 0 \t 0\n",
      "13.) tensor([ 16.7979,   8.7845, -26.9397]) \t 0 \t 0\n",
      "14.) tensor([ 1.6948,  9.0387, -7.1219]) \t 1 \t 1\n",
      "15.) tensor([ 16.5401,   9.2624, -26.8544]) \t 0 \t 0\n",
      "16.) tensor([-9.7554,  8.1986,  8.3414]) \t 2 \t 2\n",
      "17.) tensor([ 16.9633,   9.0218, -27.2680]) \t 0 \t 0\n",
      "18.) tensor([-12.4425,   6.4810,  12.6813]) \t 1 \t 2\n",
      "19.) tensor([ 19.0411,   9.7659, -30.4190]) \t 0 \t 0\n",
      "20.) tensor([ 15.3291,   8.3040, -24.7472]) \t 0 \t 0\n",
      "21.) tensor([ 0.7828,  9.5823, -6.2028]) \t 1 \t 1\n",
      "22.) tensor([-19.0139,   4.8794,  22.0382]) \t 2 \t 2\n",
      "23.) tensor([ 16.7277,   9.2870, -27.1206]) \t 0 \t 0\n",
      "24.) tensor([ 17.8395,   9.2547, -28.5632]) \t 0 \t 0\n",
      "25.) tensor([ 1.1640,  9.9744, -6.9135]) \t 1 \t 1\n",
      "26.) tensor([-0.4907,  9.9943, -4.7407]) \t 1 \t 1\n",
      "27.) tensor([-5.1537, 10.4474,  1.1630]) \t 1 \t 1\n",
      "28.) tensor([-0.0114, 10.0055, -5.3764]) \t 1 \t 1\n",
      "29.) tensor([ 18.3906,   9.5617, -29.4458]) \t 0 \t 0\n",
      "30.) tensor([-5.6210,  9.8578,  2.0989]) \t 1 \t 1\n",
      "\n",
      "We got 29/30 correct!\n"
     ]
    }
   ],
   "source": [
    "correct = 0\n",
    "with torch.no_grad():\n",
    "    for i,data in enumerate(X_test):\n",
    "        y_val = model.forward(data)\n",
    "\n",
    "        # will tell us class of flower network thinks it is\n",
    "        print(f'{i+1}.) {str(y_val)} \\t {y_test[i]} \\t {y_val.argmax().item()}')\n",
    "        \n",
    "        # correct or not\n",
    "        if y_val.argmax().item() == y_test[i]:\n",
    "            correct += 1\n",
    "print(f'\\nWe got {correct}/{i+1} correct!')"
   ]
  },
  {
   "cell_type": "code",
   "execution_count": 211,
   "id": "db2ec884-2e73-45a1-93d0-4eb00a15193a",
   "metadata": {},
   "outputs": [],
   "source": [
    "new_iris = torch.tensor([4.7,3.2,1.3,0.2])"
   ]
  },
  {
   "cell_type": "code",
   "execution_count": 212,
   "id": "493612d0-36f1-44ac-81ea-f2e645d6fba4",
   "metadata": {},
   "outputs": [
    {
     "name": "stdout",
     "output_type": "stream",
     "text": [
      "tensor([ 17.8395,   9.2547, -28.5632])\n"
     ]
    }
   ],
   "source": [
    "with torch.no_grad():\n",
    "    print(model(new_iris))"
   ]
  },
  {
   "cell_type": "code",
   "execution_count": 213,
   "id": "02ba0047-d7d7-4d26-b31f-013537e1bb83",
   "metadata": {},
   "outputs": [],
   "source": [
    "# save NN model\n",
    "torch.save(model.state_dict(),'iris_model.pt') # save weights etc to dictionary"
   ]
  },
  {
   "cell_type": "code",
   "execution_count": 215,
   "id": "881e5bc5-8fde-487a-a342-60852f77ffcd",
   "metadata": {},
   "outputs": [
    {
     "name": "stderr",
     "output_type": "stream",
     "text": [
      "/tmp/ipykernel_145934/30275161.py:3: FutureWarning: You are using `torch.load` with `weights_only=False` (the current default value), which uses the default pickle module implicitly. It is possible to construct malicious pickle data which will execute arbitrary code during unpickling (See https://github.com/pytorch/pytorch/blob/main/SECURITY.md#untrusted-models for more details). In a future release, the default value for `weights_only` will be flipped to `True`. This limits the functions that could be executed during unpickling. Arbitrary objects will no longer be allowed to be loaded via this mode unless they are explicitly allowlisted by the user via `torch.serialization.add_safe_globals`. We recommend you start setting `weights_only=True` for any use case where you don't have full control of the loaded file. Please open an issue on GitHub for any issues related to this experimental feature.\n",
      "  new_model.load_state_dict(torch.load('iris_model.pt'))\n"
     ]
    },
    {
     "data": {
      "text/plain": [
       "<All keys matched successfully>"
      ]
     },
     "execution_count": 215,
     "metadata": {},
     "output_type": "execute_result"
    }
   ],
   "source": [
    "# load saved model\n",
    "new_model = Model()\n",
    "new_model.load_state_dict(torch.load('iris_model.pt'))"
   ]
  },
  {
   "cell_type": "code",
   "execution_count": 216,
   "id": "dfd6d85c-94b8-4f2f-81f0-06a861c2d408",
   "metadata": {},
   "outputs": [
    {
     "data": {
      "text/plain": [
       "Model(\n",
       "  (fc1): Linear(in_features=4, out_features=8, bias=True)\n",
       "  (fc2): Linear(in_features=8, out_features=64, bias=True)\n",
       "  (out): Linear(in_features=64, out_features=3, bias=True)\n",
       ")"
      ]
     },
     "execution_count": 216,
     "metadata": {},
     "output_type": "execute_result"
    }
   ],
   "source": [
    "new_model.eval()"
   ]
  }
 ],
 "metadata": {
  "kernelspec": {
   "display_name": "Python 3 (ipykernel)",
   "language": "python",
   "name": "python3"
  },
  "language_info": {
   "codemirror_mode": {
    "name": "ipython",
    "version": 3
   },
   "file_extension": ".py",
   "mimetype": "text/x-python",
   "name": "python",
   "nbconvert_exporter": "python",
   "pygments_lexer": "ipython3",
   "version": "3.12.7"
  }
 },
 "nbformat": 4,
 "nbformat_minor": 5
}
