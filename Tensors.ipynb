{
 "cells": [
  {
   "cell_type": "raw",
   "id": "866953b8-8e81-4cc3-bcb4-032b2caf2274",
   "metadata": {},
   "source": [
    "Tensors\n",
    "    * A torch.Tensor is a multi-dimensional matrix containing elements of a single data type.\n",
    "    * Similar to Numpy Arrays, but fill of fun things that make them work better on GPUs (vs regular CPUs).\n",
    "    * Default data type of float32\n",
    "    * More suitable for deep leaerning than a numpy array"
   ]
  },
  {
   "cell_type": "code",
   "execution_count": 5,
   "id": "e45443a2-00ea-4541-b6f5-75ebc7b581ae",
   "metadata": {},
   "outputs": [],
   "source": [
    "import torch\n",
    "import numpy as np\n"
   ]
  },
  {
   "cell_type": "code",
   "execution_count": 3,
   "id": "7c31ae7f-cde2-41e2-8eba-3e2d54f9f595",
   "metadata": {},
   "outputs": [
    {
     "data": {
      "text/plain": [
       "tensor([[-1.1848,  1.3925,  0.2316,  0.0889],\n",
       "        [ 0.9219, -0.4796, -1.8778, -0.7891],\n",
       "        [-0.3489, -1.1586,  0.5954, -0.2148]])"
      ]
     },
     "execution_count": 3,
     "metadata": {},
     "output_type": "execute_result"
    }
   ],
   "source": [
    "tensor_2d = torch.randn(3,4) # rows x columns\n",
    "tensor_2d"
   ]
  },
  {
   "cell_type": "code",
   "execution_count": 7,
   "id": "4fae27e2-5f20-41e3-8d1b-1f657753832c",
   "metadata": {},
   "outputs": [
    {
     "data": {
      "text/plain": [
       "tensor([[0.5144, 0.1882, 0.2445, 0.8423],\n",
       "        [0.2882, 0.9986, 0.8237, 0.9504],\n",
       "        [0.7893, 0.7655, 0.7960, 0.9749]], dtype=torch.float64)"
      ]
     },
     "execution_count": 7,
     "metadata": {},
     "output_type": "execute_result"
    }
   ],
   "source": [
    "# create tensor out of np array\n",
    "np1 = np.random.rand(3,4)\n",
    "my_tensor = torch.tensor(np1)\n",
    "my_tensor"
   ]
  },
  {
   "cell_type": "code",
   "execution_count": 11,
   "id": "88637005-df53-4a89-ad00-745fc579c0c9",
   "metadata": {},
   "outputs": [
    {
     "data": {
      "text/plain": [
       "tensor([0, 1, 2, 3, 4, 5, 6, 7, 8, 9])"
      ]
     },
     "execution_count": 11,
     "metadata": {},
     "output_type": "execute_result"
    }
   ],
   "source": [
    "my_torch = torch.arange(10)\n",
    "my_torch"
   ]
  },
  {
   "cell_type": "code",
   "execution_count": 13,
   "id": "602a08d1-d520-4dc3-b778-d9df0b2d9420",
   "metadata": {},
   "outputs": [
    {
     "data": {
      "text/plain": [
       "tensor([ 0,  1,  2,  3,  4,  5,  6,  7,  8,  9, 10, 11, 12, 13, 14, 15, 16, 17,\n",
       "        18, 19])"
      ]
     },
     "execution_count": 13,
     "metadata": {},
     "output_type": "execute_result"
    }
   ],
   "source": [
    "# reshape and view\n",
    "my_torch = my_torch.reshape(2,5)\n",
    "my_torch\n",
    "\n",
    "# reshape with unknown element numbers\n",
    "my_torch2 = torch.arange(20)\n",
    "my_torch2"
   ]
  },
  {
   "cell_type": "code",
   "execution_count": 15,
   "id": "e9806d0d-011f-4980-b0a7-5f0971f7f5ea",
   "metadata": {},
   "outputs": [
    {
     "data": {
      "text/plain": [
       "tensor([[ 0,  1,  2,  3,  4,  5,  6,  7,  8,  9],\n",
       "        [10, 11, 12, 13, 14, 15, 16, 17, 18, 19]])"
      ]
     },
     "execution_count": 15,
     "metadata": {},
     "output_type": "execute_result"
    }
   ],
   "source": [
    "my_torch2 = my_torch2.reshape(2,-1)\n",
    "my_torch2"
   ]
  },
  {
   "cell_type": "code",
   "execution_count": 16,
   "id": "207e641d-6607-42da-bbed-7ce9d1cd46b7",
   "metadata": {},
   "outputs": [
    {
     "data": {
      "text/plain": [
       "tensor([0, 1, 2, 3, 4, 5, 6, 7, 8, 9])"
      ]
     },
     "execution_count": 16,
     "metadata": {},
     "output_type": "execute_result"
    }
   ],
   "source": [
    "my_torch3 = torch.arange(10)\n",
    "my_torch3"
   ]
  },
  {
   "cell_type": "code",
   "execution_count": 17,
   "id": "b11b5794-51fa-4f25-a36d-b36574a36ad9",
   "metadata": {},
   "outputs": [
    {
     "data": {
      "text/plain": [
       "tensor([[0, 1, 2, 3, 4],\n",
       "        [5, 6, 7, 8, 9]])"
      ]
     },
     "execution_count": 17,
     "metadata": {},
     "output_type": "execute_result"
    }
   ],
   "source": [
    "my_torch4 = my_torch3.view(2,5)\n",
    "my_torch4"
   ]
  },
  {
   "cell_type": "code",
   "execution_count": 18,
   "id": "92445a8b-f880-4061-80bf-12244f72568a",
   "metadata": {},
   "outputs": [
    {
     "data": {
      "text/plain": [
       "tensor([0, 1, 2, 3, 4, 5, 6, 7, 8, 9])"
      ]
     },
     "execution_count": 18,
     "metadata": {},
     "output_type": "execute_result"
    }
   ],
   "source": [
    "# slices\n",
    "\n",
    "my_torch5 = torch.arange(10)\n",
    "my_torch5"
   ]
  },
  {
   "cell_type": "code",
   "execution_count": 21,
   "id": "a3c74c59-47e2-431c-b955-67b74bf93d1f",
   "metadata": {},
   "outputs": [
    {
     "data": {
      "text/plain": [
       "tensor([[0, 1],\n",
       "        [2, 3],\n",
       "        [4, 5],\n",
       "        [6, 7],\n",
       "        [8, 9]])"
      ]
     },
     "execution_count": 21,
     "metadata": {},
     "output_type": "execute_result"
    }
   ],
   "source": [
    "my_torch6 = my_torch5.reshape(5,2)\n",
    "my_torch6"
   ]
  },
  {
   "cell_type": "code",
   "execution_count": 24,
   "id": "1ebc5326-ab23-458b-868f-d9edcfc30e3f",
   "metadata": {},
   "outputs": [
    {
     "data": {
      "text/plain": [
       "tensor([[1],\n",
       "        [3],\n",
       "        [5],\n",
       "        [7],\n",
       "        [9]])"
      ]
     },
     "execution_count": 24,
     "metadata": {},
     "output_type": "execute_result"
    }
   ],
   "source": [
    "my_torch6[:,1:]"
   ]
  },
  {
   "cell_type": "code",
   "execution_count": null,
   "id": "15d2803b-3222-4ce2-b4b4-b92f4d31e14b",
   "metadata": {},
   "outputs": [],
   "source": []
  }
 ],
 "metadata": {
  "kernelspec": {
   "display_name": "Python 3 (ipykernel)",
   "language": "python",
   "name": "python3"
  },
  "language_info": {
   "codemirror_mode": {
    "name": "ipython",
    "version": 3
   },
   "file_extension": ".py",
   "mimetype": "text/x-python",
   "name": "python",
   "nbconvert_exporter": "python",
   "pygments_lexer": "ipython3",
   "version": "3.12.7"
  }
 },
 "nbformat": 4,
 "nbformat_minor": 5
}
