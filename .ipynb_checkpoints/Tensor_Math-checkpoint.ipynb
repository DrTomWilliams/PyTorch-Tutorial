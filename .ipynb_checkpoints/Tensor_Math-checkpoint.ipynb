{
 "cells": [
  {
   "cell_type": "code",
   "execution_count": 1,
   "id": "c94429b6-56e4-4cc7-90a2-76920c65a4ce",
   "metadata": {},
   "outputs": [],
   "source": [
    "import torch\n",
    "import numpy as np"
   ]
  },
  {
   "cell_type": "code",
   "execution_count": 2,
   "id": "52dd8b82-b399-4af7-84d0-81b3e2f6868b",
   "metadata": {},
   "outputs": [],
   "source": [
    "tensor_a = torch.tensor([1,2,3,4])\n",
    "tensor_b = torch.tensor([5,6,7,8])"
   ]
  },
  {
   "cell_type": "code",
   "execution_count": 3,
   "id": "3eca92c1-713f-4dda-8b55-ff782adb48fb",
   "metadata": {},
   "outputs": [
    {
     "data": {
      "text/plain": [
       "tensor([ 6,  8, 10, 12])"
      ]
     },
     "execution_count": 3,
     "metadata": {},
     "output_type": "execute_result"
    }
   ],
   "source": [
    "#add\n",
    "tensor_a + tensor_b"
   ]
  },
  {
   "cell_type": "code",
   "execution_count": 4,
   "id": "78d54171-90e2-4a80-8fe9-8194a364e303",
   "metadata": {},
   "outputs": [
    {
     "data": {
      "text/plain": [
       "tensor([ 6,  8, 10, 12])"
      ]
     },
     "execution_count": 4,
     "metadata": {},
     "output_type": "execute_result"
    }
   ],
   "source": [
    "torch.add(tensor_a,tensor_b)"
   ]
  },
  {
   "cell_type": "code",
   "execution_count": 6,
   "id": "c73839ed-52fb-4e94-9e83-b16cb46ca435",
   "metadata": {},
   "outputs": [
    {
     "data": {
      "text/plain": [
       "tensor([4, 4, 4, 4])"
      ]
     },
     "execution_count": 6,
     "metadata": {},
     "output_type": "execute_result"
    }
   ],
   "source": [
    "#subtract\n",
    "tensor_b-tensor_a"
   ]
  },
  {
   "cell_type": "code",
   "execution_count": 7,
   "id": "b0b8d5e8-64d6-4bc4-85a7-7dad16008af0",
   "metadata": {},
   "outputs": [
    {
     "data": {
      "text/plain": [
       "tensor([4, 4, 4, 4])"
      ]
     },
     "execution_count": 7,
     "metadata": {},
     "output_type": "execute_result"
    }
   ],
   "source": [
    "torch.sub(tensor_b,tensor_a)"
   ]
  },
  {
   "cell_type": "code",
   "execution_count": 8,
   "id": "021dc934-ac72-4e05-a318-f13def6576e9",
   "metadata": {},
   "outputs": [
    {
     "data": {
      "text/plain": [
       "tensor([ 5, 12, 21, 32])"
      ]
     },
     "execution_count": 8,
     "metadata": {},
     "output_type": "execute_result"
    }
   ],
   "source": [
    "# times\n",
    "tensor_a * tensor_b"
   ]
  },
  {
   "cell_type": "code",
   "execution_count": 9,
   "id": "953bd09e-43a0-4195-8e3e-4ee1a0ff0ae9",
   "metadata": {},
   "outputs": [
    {
     "data": {
      "text/plain": [
       "tensor([ 5, 12, 21, 32])"
      ]
     },
     "execution_count": 9,
     "metadata": {},
     "output_type": "execute_result"
    }
   ],
   "source": [
    "torch.mul(tensor_a,tensor_b)"
   ]
  },
  {
   "cell_type": "code",
   "execution_count": 10,
   "id": "86847ddd-8a6b-4280-b120-3eda4cadf238",
   "metadata": {},
   "outputs": [
    {
     "data": {
      "text/plain": [
       "tensor([5.0000, 3.0000, 2.3333, 2.0000])"
      ]
     },
     "execution_count": 10,
     "metadata": {},
     "output_type": "execute_result"
    }
   ],
   "source": [
    "# divide\n",
    "tensor_b / tensor_a"
   ]
  },
  {
   "cell_type": "code",
   "execution_count": 12,
   "id": "310a2767-cbc7-4588-b3cc-874517b24d10",
   "metadata": {},
   "outputs": [
    {
     "data": {
      "text/plain": [
       "tensor([5.0000, 3.0000, 2.3333, 2.0000])"
      ]
     },
     "execution_count": 12,
     "metadata": {},
     "output_type": "execute_result"
    }
   ],
   "source": [
    "torch.div(tensor_b,tensor_a)"
   ]
  },
  {
   "cell_type": "code",
   "execution_count": 13,
   "id": "2c378ecf-b064-4ca5-9cf0-1ef3a4d2b768",
   "metadata": {},
   "outputs": [
    {
     "data": {
      "text/plain": [
       "tensor([0, 0, 1, 0])"
      ]
     },
     "execution_count": 13,
     "metadata": {},
     "output_type": "execute_result"
    }
   ],
   "source": [
    "# remainder\n",
    "tensor_b % tensor_a"
   ]
  },
  {
   "cell_type": "code",
   "execution_count": 15,
   "id": "98795d61-9112-4fdc-8e70-ca3f3a546796",
   "metadata": {},
   "outputs": [
    {
     "data": {
      "text/plain": [
       "tensor([0, 0, 1, 0])"
      ]
     },
     "execution_count": 15,
     "metadata": {},
     "output_type": "execute_result"
    }
   ],
   "source": [
    "torch.remainder(tensor_b,tensor_a)"
   ]
  },
  {
   "cell_type": "code",
   "execution_count": 16,
   "id": "e84b80ca-9320-423c-88a0-b377aa00e08e",
   "metadata": {},
   "outputs": [
    {
     "data": {
      "text/plain": [
       "tensor([    1,    64,  2187, 65536])"
      ]
     },
     "execution_count": 16,
     "metadata": {},
     "output_type": "execute_result"
    }
   ],
   "source": [
    "# exponents\n",
    "torch.pow(tensor_a,tensor_b)"
   ]
  },
  {
   "cell_type": "code",
   "execution_count": 17,
   "id": "278ec8c1-e17a-4d89-a562-6f9707720b32",
   "metadata": {},
   "outputs": [
    {
     "data": {
      "text/plain": [
       "tensor([ 6,  8, 10, 12])"
      ]
     },
     "execution_count": 17,
     "metadata": {},
     "output_type": "execute_result"
    }
   ],
   "source": [
    "# another way of using the tensor.functions\n",
    "tensor_a.add(tensor_b)"
   ]
  },
  {
   "cell_type": "code",
   "execution_count": 18,
   "id": "be572adf-a212-4b2e-ab80-08a906a2ccff",
   "metadata": {},
   "outputs": [
    {
     "data": {
      "text/plain": [
       "tensor([ 6,  8, 10, 12])"
      ]
     },
     "execution_count": 18,
     "metadata": {},
     "output_type": "execute_result"
    }
   ],
   "source": [
    "# reassignment\n",
    "tensor_a.add_(tensor_b)\n",
    "tensor_a"
   ]
  },
  {
   "cell_type": "code",
   "execution_count": 20,
   "id": "fb91ca63-c989-4a5e-b255-ccb266c944bd",
   "metadata": {},
   "outputs": [
    {
     "data": {
      "text/plain": [
       "tensor([ 6,  8, 10, 12])"
      ]
     },
     "execution_count": 20,
     "metadata": {},
     "output_type": "execute_result"
    }
   ],
   "source": [
    "tensor_a = torch.tensor([1,2,3,4])\n",
    "tensor_a += tensor_b\n",
    "tensor_a"
   ]
  }
 ],
 "metadata": {
  "kernelspec": {
   "display_name": "Python 3 (ipykernel)",
   "language": "python",
   "name": "python3"
  },
  "language_info": {
   "codemirror_mode": {
    "name": "ipython",
    "version": 3
   },
   "file_extension": ".py",
   "mimetype": "text/x-python",
   "name": "python",
   "nbconvert_exporter": "python",
   "pygments_lexer": "ipython3",
   "version": "3.12.7"
  }
 },
 "nbformat": 4,
 "nbformat_minor": 5
}
