{
 "cells": [
  {
   "cell_type": "code",
   "execution_count": 131,
   "id": "c22a7383-1974-4207-ab25-014cbf7d82f9",
   "metadata": {},
   "outputs": [],
   "source": [
    "import torch\n",
    "import torch.nn as nn\n",
    "import torch.nn.functional as F\n",
    "from torch.utils.data import DataLoader\n",
    "from torchvision import datasets, transforms\n",
    "from torchvision.utils import make_grid\n",
    "\n",
    "from sklearn.metrics import confusion_matrix\n",
    "import pandas as np\n",
    "import numpy as np\n",
    "import matplotlib.pyplot as plt\n",
    "%matplotlib inline"
   ]
  },
  {
   "cell_type": "code",
   "execution_count": 132,
   "id": "0a71b343-19e1-491a-8cad-29d8aa675b5a",
   "metadata": {},
   "outputs": [],
   "source": [
    "# Convert MNIST image files to 4D tensors (# images, height, width, colour)\n",
    "transform = transforms.ToTensor()"
   ]
  },
  {
   "cell_type": "code",
   "execution_count": 133,
   "id": "a1e7d231-a1f8-497f-b77f-7177cd2ce4da",
   "metadata": {},
   "outputs": [],
   "source": [
    "# train data\n",
    "train_data = datasets.MNIST(root='cnn_data',\n",
    "                            train=True, \n",
    "                            download=True, \n",
    "                            transform=transform\n",
    "                           )\n",
    "\n",
    "# test data\n",
    "test_data = datasets.MNIST(root='cnn_data',\n",
    "                            train=False, \n",
    "                            download=True, \n",
    "                            transform=transform\n",
    "                           )"
   ]
  },
  {
   "cell_type": "code",
   "execution_count": 134,
   "id": "f441a08f-1aa5-4a7c-97cc-508409002951",
   "metadata": {},
   "outputs": [],
   "source": [
    "# create small batch size for images\n",
    "train_loader = DataLoader(train_data,\n",
    "                          batch_size=10,\n",
    "                          shuffle=True\n",
    "                         )\n",
    "\n",
    "test_loader = DataLoader(test_data,\n",
    "                         batch_size=10,\n",
    "                         shuffle=False\n",
    "                        )\n"
   ]
  },
  {
   "cell_type": "code",
   "execution_count": 135,
   "id": "183498d7-4028-4d1d-9551-95f7b2ae6a22",
   "metadata": {},
   "outputs": [],
   "source": [
    "# define our CNN model\n",
    "# describe convolutional layer and what it's doing (2 convolutional layers)\n",
    "\n",
    "# input size, output channels, kernel size, stride (shift before applying next kernel)\n",
    "conv1 = nn.Conv2d(1, 6, 3, 1)\n",
    "conv2 = nn.Conv2d(6, 16, 3, 1) # input has to match output of previous layer"
   ]
  },
  {
   "cell_type": "code",
   "execution_count": 136,
   "id": "6d96fa4d-3605-48e9-801b-b947d9cae69d",
   "metadata": {},
   "outputs": [],
   "source": [
    "# grab 1 mnist record\n",
    "for i, (X_Train, y_train) in enumerate(train_data):\n",
    "    break"
   ]
  },
  {
   "cell_type": "code",
   "execution_count": 137,
   "id": "6cbbbebc-184a-4dd3-8263-f3cb74a188d7",
   "metadata": {},
   "outputs": [
    {
     "data": {
      "text/plain": [
       "torch.Size([1, 28, 28])"
      ]
     },
     "execution_count": 137,
     "metadata": {},
     "output_type": "execute_result"
    }
   ],
   "source": [
    "X_Train.shape"
   ]
  },
  {
   "cell_type": "code",
   "execution_count": 138,
   "id": "1b504285-2f37-45c9-9ad9-f5e5812a7f11",
   "metadata": {},
   "outputs": [
    {
     "data": {
      "text/plain": [
       "torch.Size([1, 1, 28, 28])"
      ]
     },
     "execution_count": 138,
     "metadata": {},
     "output_type": "execute_result"
    }
   ],
   "source": [
    "# convert to 4D\n",
    "x = X_Train.view(1,1,28,28)\n",
    "x.shape"
   ]
  },
  {
   "cell_type": "code",
   "execution_count": 139,
   "id": "18d5eba2-3a86-40c5-a0c8-a3c2ff5ef42a",
   "metadata": {},
   "outputs": [],
   "source": [
    "# perform first convolution\n",
    "x = F.relu(conv1(x)) # rectified linear unit for our activation function"
   ]
  },
  {
   "cell_type": "code",
   "execution_count": 140,
   "id": "7f60d26c-299e-4525-a0e1-a52cd8de6ea5",
   "metadata": {},
   "outputs": [
    {
     "data": {
      "text/plain": [
       "torch.Size([1, 6, 26, 26])"
      ]
     },
     "execution_count": 140,
     "metadata": {},
     "output_type": "execute_result"
    }
   ],
   "source": [
    "# 1 single image, 6 filters, 26x26 image --> lose 1 pixel off each side due to padding\n",
    "x.shape"
   ]
  },
  {
   "cell_type": "code",
   "execution_count": 141,
   "id": "9b7ce89f-9031-4bc4-83e0-8bd7163c4c10",
   "metadata": {},
   "outputs": [],
   "source": [
    "# pass through pooling layer\n",
    "x = F.max_pool2d(x, 2,2) # kernel size of 2, stride of 2"
   ]
  },
  {
   "cell_type": "code",
   "execution_count": 142,
   "id": "b3afe6f6-3ca1-4c93-b3db-431be7f453c2",
   "metadata": {},
   "outputs": [
    {
     "data": {
      "text/plain": [
       "torch.Size([1, 6, 13, 13])"
      ]
     },
     "execution_count": 142,
     "metadata": {},
     "output_type": "execute_result"
    }
   ],
   "source": [
    "x.shape  # 26/2 = 13 from scombination of kernel and stride (I think)"
   ]
  },
  {
   "cell_type": "code",
   "execution_count": 143,
   "id": "c3244c27-95f4-4f0e-bbfb-c7e9f5a3552d",
   "metadata": {},
   "outputs": [],
   "source": [
    "# 2nd convolutional layer\n",
    "x  = F.relu(conv2(x))"
   ]
  },
  {
   "cell_type": "code",
   "execution_count": 144,
   "id": "936616fb-1c17-41f8-9765-25a37c86f906",
   "metadata": {},
   "outputs": [
    {
     "data": {
      "text/plain": [
       "torch.Size([1, 16, 11, 11])"
      ]
     },
     "execution_count": 144,
     "metadata": {},
     "output_type": "execute_result"
    }
   ],
   "source": [
    "x.shape # lose 1 pixel on edges due to no padding"
   ]
  },
  {
   "cell_type": "code",
   "execution_count": 145,
   "id": "c71f1568-d670-4226-a19d-830ae053022b",
   "metadata": {},
   "outputs": [],
   "source": [
    "# pooling layer\n",
    "x = F.max_pool2d(x, 2,2)"
   ]
  },
  {
   "cell_type": "code",
   "execution_count": 146,
   "id": "f45f7162-59df-4c16-841d-409259de681b",
   "metadata": {},
   "outputs": [
    {
     "data": {
      "text/plain": [
       "torch.Size([1, 16, 5, 5])"
      ]
     },
     "execution_count": 146,
     "metadata": {},
     "output_type": "execute_result"
    }
   ],
   "source": [
    "x.shape"
   ]
  }
 ],
 "metadata": {
  "kernelspec": {
   "display_name": "Python 3 (ipykernel)",
   "language": "python",
   "name": "python3"
  },
  "language_info": {
   "codemirror_mode": {
    "name": "ipython",
    "version": 3
   },
   "file_extension": ".py",
   "mimetype": "text/x-python",
   "name": "python",
   "nbconvert_exporter": "python",
   "pygments_lexer": "ipython3",
   "version": "3.12.7"
  }
 },
 "nbformat": 4,
 "nbformat_minor": 5
}
