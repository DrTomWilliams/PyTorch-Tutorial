{
 "cells": [
  {
   "cell_type": "raw",
   "id": "866953b8-8e81-4cc3-bcb4-032b2caf2274",
   "metadata": {},
   "source": [
    "Tensors\n",
    "    * A torch.Tensor is a multi-dimensional matrix containing elements of a single data type.\n",
    "    * Similar to Numpy Arrays, but fill of fun things that make them work better on GPUs (vs regular CPUs).\n",
    "    * Default data type of float32\n",
    "    * More suitable for deep leaerning than a numpy array"
   ]
  },
  {
   "cell_type": "code",
   "execution_count": 5,
   "id": "e45443a2-00ea-4541-b6f5-75ebc7b581ae",
   "metadata": {},
   "outputs": [],
   "source": [
    "import torch\n",
    "import numpy as np\n"
   ]
  },
  {
   "cell_type": "code",
   "execution_count": 3,
   "id": "7c31ae7f-cde2-41e2-8eba-3e2d54f9f595",
   "metadata": {},
   "outputs": [
    {
     "data": {
      "text/plain": [
       "tensor([[-1.1848,  1.3925,  0.2316,  0.0889],\n",
       "        [ 0.9219, -0.4796, -1.8778, -0.7891],\n",
       "        [-0.3489, -1.1586,  0.5954, -0.2148]])"
      ]
     },
     "execution_count": 3,
     "metadata": {},
     "output_type": "execute_result"
    }
   ],
   "source": [
    "tensor_2d = torch.randn(3,4) # rows x columns\n",
    "tensor_2d"
   ]
  },
  {
   "cell_type": "code",
   "execution_count": 7,
   "id": "4fae27e2-5f20-41e3-8d1b-1f657753832c",
   "metadata": {},
   "outputs": [
    {
     "data": {
      "text/plain": [
       "tensor([[0.5144, 0.1882, 0.2445, 0.8423],\n",
       "        [0.2882, 0.9986, 0.8237, 0.9504],\n",
       "        [0.7893, 0.7655, 0.7960, 0.9749]], dtype=torch.float64)"
      ]
     },
     "execution_count": 7,
     "metadata": {},
     "output_type": "execute_result"
    }
   ],
   "source": [
    "# create tensor out of np array\n",
    "np1 = np.random.rand(3,4)\n",
    "my_tensor = torch.tensor(np1)\n",
    "my_tensor"
   ]
  },
  {
   "cell_type": "code",
   "execution_count": 10,
   "id": "88637005-df53-4a89-ad00-745fc579c0c9",
   "metadata": {},
   "outputs": [
    {
     "data": {
      "text/plain": [
       "True"
      ]
     },
     "execution_count": 10,
     "metadata": {},
     "output_type": "execute_result"
    }
   ],
   "source": [
    "torch.cuda.is_available()"
   ]
  }
 ],
 "metadata": {
  "kernelspec": {
   "display_name": "Python 3 (ipykernel)",
   "language": "python",
   "name": "python3"
  },
  "language_info": {
   "codemirror_mode": {
    "name": "ipython",
    "version": 3
   },
   "file_extension": ".py",
   "mimetype": "text/x-python",
   "name": "python",
   "nbconvert_exporter": "python",
   "pygments_lexer": "ipython3",
   "version": "3.12.7"
  }
 },
 "nbformat": 4,
 "nbformat_minor": 5
}
